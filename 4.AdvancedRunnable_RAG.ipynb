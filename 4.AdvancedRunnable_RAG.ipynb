{
 "cells": [
  {
   "cell_type": "markdown",
   "id": "6a19fcb6",
   "metadata": {},
   "source": [
    "### nb-0005"
   ]
  },
  {
   "cell_type": "markdown",
   "id": "c6e3faaa",
   "metadata": {},
   "source": []
  }
 ],
 "metadata": {
  "language_info": {
   "name": "python"
  }
 },
 "nbformat": 4,
 "nbformat_minor": 5
}
